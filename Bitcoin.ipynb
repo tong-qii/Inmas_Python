{
 "cells": [
  {
   "cell_type": "markdown",
   "metadata": {
    "id": "PfWTOSsfXF-y"
   },
   "source": [
    "###Bitcoin Price Data Project"
   ]
  },
  {
   "cell_type": "markdown",
   "metadata": {
    "id": "YTUed6MNWynj"
   },
   "source": [
    "Download the file 'BTC\\_prices.csv' (hourly price of Bitcoin from 2018 to mid-2020) and then move it to the folder you write your code in. Import the data into a numpy array called $prices$ and call its length n. "
   ]
  },
  {
   "cell_type": "code",
   "execution_count": 17,
   "metadata": {
    "id": "6U6bfVbfXXh9"
   },
   "outputs": [
    {
     "name": "stdout",
     "output_type": "stream",
     "text": [
      "[6345.41 6346.39 6327.5  ... 9412.   9434.3  9427.05]\n"
     ]
    }
   ],
   "source": [
    "import numpy as np\n",
    "import matplotlib.pyplot as plt\n",
    "import pandas as pd\n",
    "\n",
    "bitdata = np.genfromtxt('./data/BTC_prices.csv', delimiter = ',')\n",
    "print(bitdata)"
   ]
  },
  {
   "cell_type": "markdown",
   "metadata": {
    "id": "G2QEvLwjX-YU"
   },
   "source": [
    "Make a plot of the prices. Add labels to the x and y axes (x axis is hours since July 1, 2018, and y-axis is BTC price in US Dollars). "
   ]
  },
  {
   "cell_type": "code",
   "execution_count": 9,
   "metadata": {
    "id": "CaAkE8B0YrtM"
   },
   "outputs": [
    {
     "data": {
      "text/plain": [
       "Text(0.5, 1.0, 'BTC prices')"
      ]
     },
     "execution_count": 9,
     "metadata": {},
     "output_type": "execute_result"
    },
    {
     "data": {
      "image/png": "[encoded data removed]",
      "text/plain": [
       "<Figure size 432x288 with 1 Axes>"
      ]
     },
     "metadata": {
      "needs_background": "light"
     },
     "output_type": "display_data"
    }
   ],
   "source": [
    "plt.figure()\n",
    "plt.plot(range(len(bitdata)),bitdata)\n",
    "plt.xlabel(\"hours since July 1, 2018\")\n",
    "plt.ylabel(\"BTC prices\")\n",
    "plt.title(\"BTC prices\")"
   ]
  },
  {
   "cell_type": "markdown",
   "metadata": {
    "id": "e0tza1BIXYjr"
   },
   "source": [
    "Make a numpy array called deltas that contains the price *changes*, so deltas will have length n-1. Can you do it without using a for loop?<br>\n"
   ]
  },
  {
   "cell_type": "code",
   "execution_count": 13,
   "metadata": {
    "id": "gzW2vjfKZM6V"
   },
   "outputs": [],
   "source": [
    "deltas = bitdata[1:] - bitdata[0:-1]"
   ]
  },
  {
   "cell_type": "code",
   "execution_count": 14,
   "metadata": {},
   "outputs": [
    {
     "data": {
      "text/plain": [
       "16738"
      ]
     },
     "execution_count": 14,
     "metadata": {},
     "output_type": "execute_result"
    }
   ],
   "source": [
    "#len(bitdata[0:-1])\n",
    "#len(bitdata[1:])\n",
    "len(deltas)"
   ]
  },
  {
   "cell_type": "markdown",
   "metadata": {
    "id": "W9-pMCG_aSs-"
   },
   "source": [
    "Calculate some meaningful statistics for those price changes: max, min, mean, variance, median, and upper and lower quartiles. "
   ]
  },
  {
   "cell_type": "code",
   "execution_count": 25,
   "metadata": {
    "id": "g9-TT5eTakzb"
   },
   "outputs": [
    {
     "name": "stdout",
     "output_type": "stream",
     "text": [
      "min change is  -1339.3100000000004\n",
      "max change is  1356.0699999999997\n",
      "mean change is  0.18411040745608795\n",
      "variance is  3792.9203871791115\n",
      "median is  0.5199999999999818\n",
      "25% quantiales are  -16.19749999999999\n",
      "75% quantiales are  17.017500000000382\n"
     ]
    }
   ],
   "source": [
    "minn = np.min(deltas)\n",
    "print(\"min change is \", minn)\n",
    "maxx = np.max(deltas)\n",
    "print(\"max change is \", maxx)\n",
    "meann = np.mean(deltas)\n",
    "print(\"mean change is \", meann)\n",
    "varr = np.var(deltas)\n",
    "print(\"variance is \", varr)\n",
    "mediann = np.median(deltas)\n",
    "print(\"median is \", mediann)\n",
    "quantiles25 = np.quantile(deltas, 0.25)\n",
    "print(\"25% quantiales are \", quantiles25)\n",
    "quantiles75 = np.quantile(deltas, 0.75)\n",
    "print(\"75% quantiales are \", quantiles75)\n"
   ]
  },
  {
   "cell_type": "markdown",
   "metadata": {
    "id": "EhYTSAaCZOAT"
   },
   "source": [
    "Next, create a mask for deltas that is 'True' for indices corresponding to when the price went down (negative price change). Create an array of the price changes that happen in the entry *after* the price went down, using that mask. What is the mean of those price changes?"
   ]
  },
  {
   "cell_type": "code",
   "execution_count": 31,
   "metadata": {
    "id": "v90sCIMvZ6u7"
   },
   "outputs": [
    {
     "data": {
      "text/plain": [
       "1.2699520177165393"
      ]
     },
     "execution_count": 31,
     "metadata": {},
     "output_type": "execute_result"
    }
   ],
   "source": [
    "mask = deltas < 0\n",
    "deltas2 = deltas[1:]\n",
    "entryafter = deltas2[mask[:len(mask)-1]]\n",
    "len(entryafter)\n",
    "entryafter.mean()\n"
   ]
  },
  {
   "cell_type": "code",
   "execution_count": 28,
   "metadata": {},
   "outputs": [
    {
     "data": {
      "text/plain": [
       "16738"
      ]
     },
     "execution_count": 28,
     "metadata": {},
     "output_type": "execute_result"
    }
   ],
   "source": []
  },
  {
   "cell_type": "markdown",
   "metadata": {
    "id": "YKxDZxE9Z703"
   },
   "source": [
    "Use SciPy's stats module to run a t-test to compare those selected price changes versus the rest of the data of the price changes. "
   ]
  },
  {
   "cell_type": "code",
   "execution_count": null,
   "metadata": {
    "id": "NbDLmKWNayaV"
   },
   "outputs": [],
   "source": []
  },
  {
   "cell_type": "markdown",
   "metadata": {
    "id": "eJ30NRFJazSZ"
   },
   "source": [
    "In the above, we basically looked at the question \"what happens to the price in the hour afer the price went down in the previous hour?\". Use masks with other conditional statements you can think of to investigate other similar questions. For example: What do the price changes look like when the price went up in the previous *two* hours? "
   ]
  }
 ],
 "metadata": {
  "colab": {
   "name": "Bitcoin.ipynb",
   "provenance": []
  },
  "kernelspec": {
   "display_name": "Python 3",
   "language": "python",
   "name": "python3"
  },
  "language_info": {
   "codemirror_mode": {
    "name": "ipython",
    "version": 3
   },
   "file_extension": ".py",
   "mimetype": "text/x-python",
   "name": "python",
   "nbconvert_exporter": "python",
   "pygments_lexer": "ipython3",
   "version": "3.8.8"
  }
 },
 "nbformat": 4,
 "nbformat_minor": 1
}
